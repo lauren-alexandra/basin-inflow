{
 "cells": [
  {
   "cell_type": "markdown",
   "id": "8f35f2d7",
   "metadata": {},
   "source": [
    "To do (see steps in Notion task as well): \n",
    "- Smoothing: \n",
    "    - Exponential smoothing for this problem (I think): treat more recent data as more informative data, in which case exponential smoothing is a good option. \n",
    "- Handle seasonality --> seasonal data smoothing. See Orielly book. Can be used with exponential moving avg smoothing\n",
    "- Normalize data"
   ]
  },
  {
   "cell_type": "code",
   "execution_count": 2,
   "id": "685ec551",
   "metadata": {},
   "outputs": [],
   "source": [
    "\"\"\"\n",
    "Smoothing utility function: Exponential moving average\n",
    "\n",
    "- Uses past 30 periods or days to inform prediction (give them more weight) in order to capture trends\n",
    "- Span corresponds to what is commonly called an “N-day EW moving average”\n",
    "- mean() for the average in exponential moving average\n",
    "\"\"\"\n",
    "\n",
    "def smooth(df):\n",
    "  # cast value column to int for smoothing\n",
    "  # df.iloc[:, 0] = df.iloc[:, 0].astype(int)\n",
    "  return df.ewm(span=30.0, ignore_na=True).mean(engine='numba')"
   ]
  },
  {
   "cell_type": "code",
   "execution_count": 3,
   "id": "49f571b0",
   "metadata": {},
   "outputs": [],
   "source": [
    "# Use and remove seasonality: Use differencing. See page 121 in the ML book phone. With code example. \n",
    "# Seasonal data smoothing see Orielly book \n",
    "# ADD HERE: \n"
   ]
  },
  {
   "cell_type": "code",
   "execution_count": 4,
   "id": "732f5908",
   "metadata": {},
   "outputs": [],
   "source": [
    "# Normalizing utility function - prep for training. Last step\n",
    "\n",
    "# see your Notion notes\n",
    "# maximum absolute scaling rescales each feature between -1 and 1 by dividing every observation \n",
    "# by its maximum absolute value\n",
    "\n",
    "\n",
    "# ADD HERE: \n",
    "\n"
   ]
  },
  {
   "cell_type": "code",
   "execution_count": null,
   "id": "88cbc2c9",
   "metadata": {},
   "outputs": [],
   "source": []
  },
  {
   "cell_type": "code",
   "execution_count": null,
   "id": "0f4d9321",
   "metadata": {},
   "outputs": [],
   "source": []
  }
 ],
 "metadata": {
  "kernelspec": {
   "display_name": "Python 3 (ipykernel)",
   "language": "python",
   "name": "python3"
  },
  "language_info": {
   "codemirror_mode": {
    "name": "ipython",
    "version": 3
   },
   "file_extension": ".py",
   "mimetype": "text/x-python",
   "name": "python",
   "nbconvert_exporter": "python",
   "pygments_lexer": "ipython3",
   "version": "3.11.3"
  }
 },
 "nbformat": 4,
 "nbformat_minor": 5
}
