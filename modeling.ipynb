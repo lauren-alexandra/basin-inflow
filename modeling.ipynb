{
 "cells": [
  {
   "cell_type": "code",
   "execution_count": 1,
   "id": "9faa064e",
   "metadata": {},
   "outputs": [],
   "source": [
    "import warnings\n",
    "warnings.simplefilter(\"ignore\")\n",
    "\n",
    "import pandas as pd\n",
    "import numpy as np\n",
    "\n",
    "from sklearn.metrics import mean_squared_error\n",
    "from math import sqrt\n",
    "\n",
    "import tensorflow as tf\n",
    "from tensorflow.data import Dataset"
   ]
  },
  {
   "cell_type": "code",
   "execution_count": 2,
   "id": "93ea6530",
   "metadata": {},
   "outputs": [],
   "source": [
    "# Import data\n",
    "\n",
    "DATA_PATH = 'Reservoir_Project/Data'"
   ]
  },
  {
   "cell_type": "code",
   "execution_count": 3,
   "id": "500f705a",
   "metadata": {},
   "outputs": [],
   "source": [
    "basin_inflow_train = pd.read_excel(f'{DATA_PATH}/Custom/basin_inflow_train.xlsx', index_col=0)\n",
    "basin_inflow_validation = pd.read_excel(f'{DATA_PATH}/Custom/basin_inflow_validation.xlsx', index_col=0)\n",
    "basin_inflow_test = pd.read_excel(f'{DATA_PATH}/Custom/basin_inflow_test.xlsx', index_col=0)"
   ]
  },
  {
   "cell_type": "code",
   "execution_count": 4,
   "id": "60024804",
   "metadata": {},
   "outputs": [
    {
     "data": {
      "text/html": [
       "<div>\n",
       "<style scoped>\n",
       "    .dataframe tbody tr th:only-of-type {\n",
       "        vertical-align: middle;\n",
       "    }\n",
       "\n",
       "    .dataframe tbody tr th {\n",
       "        vertical-align: top;\n",
       "    }\n",
       "\n",
       "    .dataframe thead th {\n",
       "        text-align: right;\n",
       "    }\n",
       "</style>\n",
       "<table border=\"1\" class=\"dataframe\">\n",
       "  <thead>\n",
       "    <tr style=\"text-align: right;\">\n",
       "      <th></th>\n",
       "      <th>INFLOW</th>\n",
       "      <th>ADR_PRECIP_ACC</th>\n",
       "      <th>ADR_PRECIP_INCR</th>\n",
       "      <th>ADR_TEMP_AVG</th>\n",
       "      <th>ADR_TEMP_MAX</th>\n",
       "      <th>ADR_TEMP_MIN</th>\n",
       "      <th>HYS_PRECIP_ACC</th>\n",
       "      <th>HYS_PRECIP_INCR</th>\n",
       "      <th>HYS_SNOW_DEPTH</th>\n",
       "      <th>HYS_SNOW_WATER_CONTENT</th>\n",
       "      <th>...</th>\n",
       "      <th>FRN_SNOW_DEPTH</th>\n",
       "      <th>FRN_SNOW_WATER_CONTENT</th>\n",
       "      <th>FRN_TEMP_AVG</th>\n",
       "      <th>FRN_TEMP_MAX</th>\n",
       "      <th>FRN_TEMP_MIN</th>\n",
       "      <th>PFH_PRECIP_ACC</th>\n",
       "      <th>PFH_PRECIP_INCR</th>\n",
       "      <th>PFH_TEMP_AVG</th>\n",
       "      <th>PFH_TEMP_MAX</th>\n",
       "      <th>PFH_TEMP_MIN</th>\n",
       "    </tr>\n",
       "  </thead>\n",
       "  <tbody>\n",
       "    <tr>\n",
       "      <th>0</th>\n",
       "      <td>0.009407</td>\n",
       "      <td>-0.120687</td>\n",
       "      <td>0.184068</td>\n",
       "      <td>0.009505</td>\n",
       "      <td>-0.391558</td>\n",
       "      <td>0.331857</td>\n",
       "      <td>-0.064454</td>\n",
       "      <td>0.309236</td>\n",
       "      <td>-0.160654</td>\n",
       "      <td>-0.115369</td>\n",
       "      <td>...</td>\n",
       "      <td>-0.094061</td>\n",
       "      <td>-0.026854</td>\n",
       "      <td>-0.467328</td>\n",
       "      <td>-0.565277</td>\n",
       "      <td>-0.419978</td>\n",
       "      <td>-0.011883</td>\n",
       "      <td>0.153432</td>\n",
       "      <td>-0.125129</td>\n",
       "      <td>-0.568938</td>\n",
       "      <td>0.021703</td>\n",
       "    </tr>\n",
       "    <tr>\n",
       "      <th>1</th>\n",
       "      <td>0.009825</td>\n",
       "      <td>-0.115892</td>\n",
       "      <td>0.215971</td>\n",
       "      <td>-0.132046</td>\n",
       "      <td>-0.389896</td>\n",
       "      <td>0.092500</td>\n",
       "      <td>-0.059993</td>\n",
       "      <td>0.338807</td>\n",
       "      <td>-0.144326</td>\n",
       "      <td>-0.108889</td>\n",
       "      <td>...</td>\n",
       "      <td>-0.090099</td>\n",
       "      <td>-0.024826</td>\n",
       "      <td>-0.342022</td>\n",
       "      <td>-0.407445</td>\n",
       "      <td>-0.301333</td>\n",
       "      <td>-0.007179</td>\n",
       "      <td>0.223590</td>\n",
       "      <td>-0.117018</td>\n",
       "      <td>-0.685109</td>\n",
       "      <td>0.061987</td>\n",
       "    </tr>\n",
       "    <tr>\n",
       "      <th>2</th>\n",
       "      <td>0.003807</td>\n",
       "      <td>-0.113764</td>\n",
       "      <td>0.098568</td>\n",
       "      <td>-0.151271</td>\n",
       "      <td>-0.247423</td>\n",
       "      <td>0.010084</td>\n",
       "      <td>-0.055076</td>\n",
       "      <td>0.360112</td>\n",
       "      <td>-0.131400</td>\n",
       "      <td>-0.100130</td>\n",
       "      <td>...</td>\n",
       "      <td>-0.086392</td>\n",
       "      <td>-0.022915</td>\n",
       "      <td>-0.183639</td>\n",
       "      <td>-0.217192</td>\n",
       "      <td>-0.148991</td>\n",
       "      <td>-0.002509</td>\n",
       "      <td>0.221885</td>\n",
       "      <td>-0.174368</td>\n",
       "      <td>-0.534766</td>\n",
       "      <td>0.017436</td>\n",
       "    </tr>\n",
       "    <tr>\n",
       "      <th>3</th>\n",
       "      <td>-0.011969</td>\n",
       "      <td>-0.122304</td>\n",
       "      <td>-0.393446</td>\n",
       "      <td>-0.182306</td>\n",
       "      <td>-0.177232</td>\n",
       "      <td>-0.113069</td>\n",
       "      <td>-0.062791</td>\n",
       "      <td>-0.574891</td>\n",
       "      <td>-0.130901</td>\n",
       "      <td>-0.093803</td>\n",
       "      <td>...</td>\n",
       "      <td>-0.087422</td>\n",
       "      <td>-0.022983</td>\n",
       "      <td>-0.118318</td>\n",
       "      <td>-0.109488</td>\n",
       "      <td>-0.107866</td>\n",
       "      <td>-0.011679</td>\n",
       "      <td>-0.461838</td>\n",
       "      <td>-0.184934</td>\n",
       "      <td>-0.356396</td>\n",
       "      <td>-0.077629</td>\n",
       "    </tr>\n",
       "    <tr>\n",
       "      <th>4</th>\n",
       "      <td>-0.047851</td>\n",
       "      <td>-0.130268</td>\n",
       "      <td>-0.460592</td>\n",
       "      <td>-0.102898</td>\n",
       "      <td>-0.067602</td>\n",
       "      <td>-0.091750</td>\n",
       "      <td>-0.068891</td>\n",
       "      <td>-0.615032</td>\n",
       "      <td>-0.146738</td>\n",
       "      <td>-0.104076</td>\n",
       "      <td>...</td>\n",
       "      <td>-0.078444</td>\n",
       "      <td>-0.022474</td>\n",
       "      <td>-0.069900</td>\n",
       "      <td>-0.023878</td>\n",
       "      <td>-0.079156</td>\n",
       "      <td>-0.019216</td>\n",
       "      <td>-0.496717</td>\n",
       "      <td>-0.080716</td>\n",
       "      <td>-0.110395</td>\n",
       "      <td>-0.107840</td>\n",
       "    </tr>\n",
       "  </tbody>\n",
       "</table>\n",
       "<p>5 rows × 36 columns</p>\n",
       "</div>"
      ],
      "text/plain": [
       "     INFLOW  ADR_PRECIP_ACC  ADR_PRECIP_INCR  ADR_TEMP_AVG  ADR_TEMP_MAX  \\\n",
       "0  0.009407       -0.120687         0.184068      0.009505     -0.391558   \n",
       "1  0.009825       -0.115892         0.215971     -0.132046     -0.389896   \n",
       "2  0.003807       -0.113764         0.098568     -0.151271     -0.247423   \n",
       "3 -0.011969       -0.122304        -0.393446     -0.182306     -0.177232   \n",
       "4 -0.047851       -0.130268        -0.460592     -0.102898     -0.067602   \n",
       "\n",
       "   ADR_TEMP_MIN  HYS_PRECIP_ACC  HYS_PRECIP_INCR  HYS_SNOW_DEPTH  \\\n",
       "0      0.331857       -0.064454         0.309236       -0.160654   \n",
       "1      0.092500       -0.059993         0.338807       -0.144326   \n",
       "2      0.010084       -0.055076         0.360112       -0.131400   \n",
       "3     -0.113069       -0.062791        -0.574891       -0.130901   \n",
       "4     -0.091750       -0.068891        -0.615032       -0.146738   \n",
       "\n",
       "   HYS_SNOW_WATER_CONTENT  ...  FRN_SNOW_DEPTH  FRN_SNOW_WATER_CONTENT  \\\n",
       "0               -0.115369  ...       -0.094061               -0.026854   \n",
       "1               -0.108889  ...       -0.090099               -0.024826   \n",
       "2               -0.100130  ...       -0.086392               -0.022915   \n",
       "3               -0.093803  ...       -0.087422               -0.022983   \n",
       "4               -0.104076  ...       -0.078444               -0.022474   \n",
       "\n",
       "   FRN_TEMP_AVG  FRN_TEMP_MAX  FRN_TEMP_MIN  PFH_PRECIP_ACC  PFH_PRECIP_INCR  \\\n",
       "0     -0.467328     -0.565277     -0.419978       -0.011883         0.153432   \n",
       "1     -0.342022     -0.407445     -0.301333       -0.007179         0.223590   \n",
       "2     -0.183639     -0.217192     -0.148991       -0.002509         0.221885   \n",
       "3     -0.118318     -0.109488     -0.107866       -0.011679        -0.461838   \n",
       "4     -0.069900     -0.023878     -0.079156       -0.019216        -0.496717   \n",
       "\n",
       "   PFH_TEMP_AVG  PFH_TEMP_MAX  PFH_TEMP_MIN  \n",
       "0     -0.125129     -0.568938      0.021703  \n",
       "1     -0.117018     -0.685109      0.061987  \n",
       "2     -0.174368     -0.534766      0.017436  \n",
       "3     -0.184934     -0.356396     -0.077629  \n",
       "4     -0.080716     -0.110395     -0.107840  \n",
       "\n",
       "[5 rows x 36 columns]"
      ]
     },
     "execution_count": 4,
     "metadata": {},
     "output_type": "execute_result"
    }
   ],
   "source": [
    "basin_inflow_train.head()"
   ]
  },
  {
   "cell_type": "markdown",
   "id": "748d978f",
   "metadata": {},
   "source": [
    "### Data windowing"
   ]
  },
  {
   "cell_type": "code",
   "execution_count": 18,
   "id": "d373e853",
   "metadata": {},
   "outputs": [],
   "source": [
    "# TensorFlow utility class for producing data windows from time series data\n",
    "\n",
    "class WindowGenerator():\n",
    "  def __init__(self, input_width, label_width, shift,\n",
    "               train_df, val_df, test_df,\n",
    "               label_columns=None):\n",
    "    # Store the raw data.\n",
    "    self.train_df = train_df\n",
    "    self.val_df = val_df\n",
    "    self.test_df = test_df\n",
    "    \n",
    "    self.column_indices = {name: i for i, name in\n",
    "                           enumerate(train_df.columns)}\n",
    "    \n",
    "    # Work out the label column indices.\n",
    "    self.label_columns = label_columns\n",
    "    if label_columns is not None:\n",
    "      self.label_columns_indices = {name: i for i, name in\n",
    "                                    enumerate(label_columns)}\n",
    "\n",
    "    # Work out the window parameters.\n",
    "    self.input_width = input_width\n",
    "    self.label_width = label_width\n",
    "    self.shift = shift\n",
    "\n",
    "    self.total_window_size = input_width + shift\n",
    "\n",
    "    self.input_slice = slice(0, input_width)\n",
    "    self.input_indices = np.arange(self.total_window_size)[self.input_slice]\n",
    "\n",
    "    self.label_start = self.total_window_size - self.label_width\n",
    "    self.labels_slice = slice(self.label_start, None)\n",
    "    self.label_indices = np.arange(self.total_window_size)[self.labels_slice]"
   ]
  },
  {
   "cell_type": "code",
   "execution_count": 19,
   "id": "aeb825cc",
   "metadata": {},
   "outputs": [
    {
     "data": {
      "text/plain": [
       "<__main__.WindowGenerator at 0x29a9a7d10>"
      ]
     },
     "execution_count": 19,
     "metadata": {},
     "output_type": "execute_result"
    }
   ],
   "source": [
    "\"\"\"\n",
    "Window\n",
    "- Given 60 days of history predict 30 days into the future. Why? A season is about 90 days in a CA WY\n",
    "- Window size: 90\n",
    "\"\"\"\n",
    "\n",
    "window = WindowGenerator(input_width=60, label_width=1, shift=30,\n",
    "                     train_df=basin_inflow_train, val_df=basin_inflow_validation, \n",
    "                     test_df=basin_inflow_test, label_columns=['INFLOW'])\n",
    "\n",
    "window"
   ]
  },
  {
   "cell_type": "code",
   "execution_count": 20,
   "id": "379f5c38",
   "metadata": {},
   "outputs": [],
   "source": [
    "# create a window of inputs and labels\n",
    "\n",
    "def split_window(self, features):\n",
    "  inputs = features[:, self.input_slice, :]\n",
    "  labels = features[:, self.labels_slice, :]\n",
    "  if self.label_columns is not None:\n",
    "    labels = tf.stack(\n",
    "        [labels[:, :, self.column_indices[name]] for name in self.label_columns],\n",
    "        axis=-1)\n",
    "\n",
    "  # set shapes after slicing\n",
    "  inputs.set_shape([None, self.input_width, None])\n",
    "  labels.set_shape([None, self.label_width, None])\n",
    "\n",
    "  return inputs, labels\n",
    "\n",
    "WindowGenerator.split_window = split_window"
   ]
  },
  {
   "cell_type": "code",
   "execution_count": 21,
   "id": "3e37dcdb",
   "metadata": {},
   "outputs": [],
   "source": [
    "# create a dataset of sliding windows over a time series dataframe\n",
    "\n",
    "def make_dataset(self, data):\n",
    "  data = np.array(data, dtype=np.float32)\n",
    "  ds = tf.keras.utils.timeseries_dataset_from_array(\n",
    "      data=data,\n",
    "      targets=None,\n",
    "      sequence_length=self.total_window_size,\n",
    "      sequence_stride=1,\n",
    "      shuffle=True,\n",
    "      batch_size=32,)\n",
    "\n",
    "  # (input_window, label_window) pairs \n",
    "  ds = ds.map(self.split_window)\n",
    "\n",
    "  return ds\n",
    "\n",
    "WindowGenerator.make_dataset = make_dataset"
   ]
  },
  {
   "cell_type": "code",
   "execution_count": 22,
   "id": "5f27daf2",
   "metadata": {},
   "outputs": [],
   "source": [
    "@property\n",
    "def train(self):\n",
    "  return self.make_dataset(self.train_df)\n",
    "\n",
    "@property\n",
    "def val(self):\n",
    "  return self.make_dataset(self.val_df)\n",
    "\n",
    "@property\n",
    "def test(self):\n",
    "  return self.make_dataset(self.test_df)\n",
    "\n",
    "WindowGenerator.train = train\n",
    "WindowGenerator.val = val\n",
    "WindowGenerator.test = test"
   ]
  },
  {
   "cell_type": "code",
   "execution_count": 23,
   "id": "70d6de41",
   "metadata": {},
   "outputs": [
    {
     "data": {
      "text/plain": [
       "(TensorSpec(shape=(None, 60, 36), dtype=tf.float32, name=None),\n",
       " TensorSpec(shape=(None, 1, 1), dtype=tf.float32, name=None))"
      ]
     },
     "execution_count": 23,
     "metadata": {},
     "output_type": "execute_result"
    }
   ],
   "source": [
    "# each element is an (inputs, label) pair\n",
    "window.train.element_spec"
   ]
  },
  {
   "cell_type": "code",
   "execution_count": 24,
   "id": "dd26e712",
   "metadata": {},
   "outputs": [
    {
     "name": "stdout",
     "output_type": "stream",
     "text": [
      "Inputs shape (batch, time, features): (32, 60, 36)\n",
      "Labels shape (batch, time, features): (32, 1, 1)\n"
     ]
    }
   ],
   "source": [
    "# example batch\n",
    "for inputs, labels in window.train.take(1):\n",
    "  print(f'Inputs shape (batch, time, features): {inputs.shape}')\n",
    "  print(f'Labels shape (batch, time, features): {labels.shape}')"
   ]
  },
  {
   "cell_type": "markdown",
   "id": "fccd065a",
   "metadata": {},
   "source": [
    "### Modeling"
   ]
  },
  {
   "cell_type": "markdown",
   "id": "37286bc8",
   "metadata": {},
   "source": [
    "#### Create baseline"
   ]
  },
  {
   "cell_type": "code",
   "execution_count": 25,
   "id": "29a12380",
   "metadata": {},
   "outputs": [],
   "source": [
    "# tensorflow baseline utility class for data windowing\n",
    "\n",
    "class Baseline(tf.keras.Model):\n",
    "  def __init__(self, label_index=None):\n",
    "    super().__init__()\n",
    "    self.label_index = label_index\n",
    "\n",
    "  def call(self, inputs):\n",
    "    if self.label_index is None:\n",
    "      return inputs\n",
    "    result = inputs[:, :, self.label_index]\n",
    "    return result[:, :, tf.newaxis]"
   ]
  },
  {
   "cell_type": "code",
   "execution_count": null,
   "id": "0ded85ce",
   "metadata": {},
   "outputs": [],
   "source": [
    "baseline = Baseline(label_index=window.column_indices['INFLOW'])\n",
    "\n",
    "baseline.compile(loss=tf.keras.losses.MeanAbsoluteError(),\n",
    "                 metrics=[tf.keras.metrics.MeanAbsoluteError()])\n",
    "\n",
    "val_performance = {}\n",
    "test_performance = {}\n",
    "val_performance['Baseline'] = baseline.evaluate(window.val)\n",
    "test_performance['Baseline'] = baseline.evaluate(window.test, verbose=0)"
   ]
  },
  {
   "cell_type": "markdown",
   "id": "9742bf48",
   "metadata": {},
   "source": [
    "#### LSTM"
   ]
  },
  {
   "cell_type": "code",
   "execution_count": 28,
   "id": "fa2344c1",
   "metadata": {},
   "outputs": [],
   "source": [
    "MAX_EPOCHS = 20\n",
    "\n",
    "def compile_and_fit(model, window, patience=2):\n",
    "  early_stopping = tf.keras.callbacks.EarlyStopping(monitor='val_loss',\n",
    "                                                    patience=patience,\n",
    "                                                    mode='min')\n",
    "\n",
    "  model.compile(loss=tf.keras.losses.MeanAbsoluteError(),\n",
    "                optimizer=tf.keras.optimizers.legacy.Adam(),\n",
    "                metrics=[tf.keras.metrics.MeanAbsoluteError()])\n",
    "\n",
    "  history = model.fit(window.train, epochs=MAX_EPOCHS,\n",
    "                      validation_data=window.val,\n",
    "                      callbacks=[early_stopping])\n",
    "  return history"
   ]
  },
  {
   "cell_type": "code",
   "execution_count": 29,
   "id": "c3d2634c",
   "metadata": {},
   "outputs": [],
   "source": [
    "\"\"\"\n",
    "inputs.shape gives you input_shape (see above)\n",
    "Inputs shape (batch, time, features): (32, 60, 36) - 32 batch size, 60 time steps, 36 features\n",
    "Note: need to verify that 36 features is correct (35 features and 1 label). See window class above \n",
    "\"\"\"\n",
    "\n",
    "lstm_model = tf.keras.models.Sequential([\n",
    "    # Shape [batch, time, features] => [batch, time, lstm_units]\n",
    "    tf.keras.layers.LSTM(32, return_sequences=True, input_shape=[None, 36]),\n",
    "    tf.keras.layers.Dense(units=1)\n",
    "])"
   ]
  },
  {
   "cell_type": "code",
   "execution_count": null,
   "id": "dafda915",
   "metadata": {},
   "outputs": [],
   "source": [
    "history = compile_and_fit(lstm_model, window)"
   ]
  },
  {
   "cell_type": "code",
   "execution_count": null,
   "id": "511c766c",
   "metadata": {},
   "outputs": [],
   "source": [
    "val_performance['LSTM'] = lstm_model.evaluate(window.val)\n",
    "test_performance['LSTM'] = lstm_model.evaluate(window.test, verbose=0)\n",
    "\n",
    "print('Validation performance: ', val_performance['LSTM'])\n",
    "print('Test performance: ', test_performance['LSTM'])"
   ]
  },
  {
   "cell_type": "code",
   "execution_count": null,
   "id": "3fa86409",
   "metadata": {},
   "outputs": [],
   "source": []
  },
  {
   "cell_type": "code",
   "execution_count": null,
   "id": "a8cba498",
   "metadata": {},
   "outputs": [],
   "source": []
  },
  {
   "cell_type": "code",
   "execution_count": null,
   "id": "53c71cfa",
   "metadata": {},
   "outputs": [],
   "source": []
  }
 ],
 "metadata": {
  "kernelspec": {
   "display_name": "Python 3 (ipykernel)",
   "language": "python",
   "name": "python3"
  },
  "language_info": {
   "codemirror_mode": {
    "name": "ipython",
    "version": 3
   },
   "file_extension": ".py",
   "mimetype": "text/x-python",
   "name": "python",
   "nbconvert_exporter": "python",
   "pygments_lexer": "ipython3",
   "version": "3.11.3"
  }
 },
 "nbformat": 4,
 "nbformat_minor": 5
}
