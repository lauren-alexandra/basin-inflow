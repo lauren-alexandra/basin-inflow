{
 "cells": [
  {
   "cell_type": "code",
   "execution_count": 1,
   "id": "9faa064e",
   "metadata": {},
   "outputs": [],
   "source": [
    "import warnings\n",
    "warnings.simplefilter(\"ignore\")\n",
    "\n",
    "import datetime, os\n",
    "from functools import partial\n",
    "import pandas as pd\n",
    "import numpy as np\n",
    "\n",
    "import tensorflow as tf\n",
    "from tensorflow.data import Dataset\n",
    "from tensorflow import keras\n",
    "import keras_tuner as kt\n",
    "\n",
    "from sklearn.preprocessing import MinMaxScaler\n",
    "from sklearn.metrics import mean_absolute_error"
   ]
  },
  {
   "cell_type": "code",
   "execution_count": 2,
   "id": "af03285d",
   "metadata": {},
   "outputs": [],
   "source": [
    "# load the TensorBoard notebook extension\n",
    "%load_ext tensorboard"
   ]
  },
  {
   "cell_type": "code",
   "execution_count": 3,
   "id": "93ea6530",
   "metadata": {},
   "outputs": [],
   "source": [
    "# Set paths\n",
    "\n",
    "DATA_PATH = 'Reservoir_Project/Data'\n",
    "HP_TUNING_PATH = 'Reservoir_Project/Hyperparameter_Tuning'"
   ]
  },
  {
   "cell_type": "code",
   "execution_count": 4,
   "id": "dd49ef72",
   "metadata": {},
   "outputs": [],
   "source": [
    "stationary_basin_inflow = pd.read_excel(f'{DATA_PATH}/Custom/stationary_basin_inflow.xlsx', index_col=0)"
   ]
  },
  {
   "cell_type": "markdown",
   "id": "3902b813",
   "metadata": {},
   "source": [
    "#### Scale data for training"
   ]
  },
  {
   "cell_type": "code",
   "execution_count": 5,
   "id": "c0a7c241",
   "metadata": {},
   "outputs": [
    {
     "data": {
      "text/html": [
       "<div>\n",
       "<style scoped>\n",
       "    .dataframe tbody tr th:only-of-type {\n",
       "        vertical-align: middle;\n",
       "    }\n",
       "\n",
       "    .dataframe tbody tr th {\n",
       "        vertical-align: top;\n",
       "    }\n",
       "\n",
       "    .dataframe thead th {\n",
       "        text-align: right;\n",
       "    }\n",
       "</style>\n",
       "<table border=\"1\" class=\"dataframe\">\n",
       "  <thead>\n",
       "    <tr style=\"text-align: right;\">\n",
       "      <th></th>\n",
       "      <th>INFLOW</th>\n",
       "      <th>NFD_MEAN_FLOW</th>\n",
       "      <th>OXB_RIVER_STAGE</th>\n",
       "      <th>OXB_RIVER_DISCHARGE</th>\n",
       "      <th>CBR_RIVER_STAGE</th>\n",
       "      <th>CBR_RIVER_DISCHARGE</th>\n",
       "      <th>ADR_PRECIP_ACC</th>\n",
       "      <th>ADR_PRECIP_INCR</th>\n",
       "      <th>ADR_TEMP_AVG</th>\n",
       "      <th>ADR_TEMP_MAX</th>\n",
       "      <th>...</th>\n",
       "      <th>FRN_SNOW_DEPTH</th>\n",
       "      <th>FRN_SNOW_WATER_CONTENT</th>\n",
       "      <th>FRN_TEMP_AVG</th>\n",
       "      <th>FRN_TEMP_MAX</th>\n",
       "      <th>FRN_TEMP_MIN</th>\n",
       "      <th>PFH_PRECIP_ACC</th>\n",
       "      <th>PFH_PRECIP_INCR</th>\n",
       "      <th>PFH_TEMP_AVG</th>\n",
       "      <th>PFH_TEMP_MAX</th>\n",
       "      <th>PFH_TEMP_MIN</th>\n",
       "    </tr>\n",
       "  </thead>\n",
       "  <tbody>\n",
       "    <tr>\n",
       "      <th>0</th>\n",
       "      <td>0.046224</td>\n",
       "      <td>0.051876</td>\n",
       "      <td>0.237069</td>\n",
       "      <td>0.063465</td>\n",
       "      <td>-0.401142</td>\n",
       "      <td>0.052915</td>\n",
       "      <td>-0.193228</td>\n",
       "      <td>0.317948</td>\n",
       "      <td>-0.136617</td>\n",
       "      <td>-0.445268</td>\n",
       "      <td>...</td>\n",
       "      <td>0.056802</td>\n",
       "      <td>-0.047357</td>\n",
       "      <td>-0.467484</td>\n",
       "      <td>-0.513988</td>\n",
       "      <td>-0.433957</td>\n",
       "      <td>-0.015267</td>\n",
       "      <td>0.226186</td>\n",
       "      <td>-0.175380</td>\n",
       "      <td>-0.606621</td>\n",
       "      <td>-0.203656</td>\n",
       "    </tr>\n",
       "    <tr>\n",
       "      <th>1</th>\n",
       "      <td>0.046656</td>\n",
       "      <td>0.057364</td>\n",
       "      <td>0.244207</td>\n",
       "      <td>0.064644</td>\n",
       "      <td>-0.200977</td>\n",
       "      <td>0.026400</td>\n",
       "      <td>-0.187313</td>\n",
       "      <td>0.353458</td>\n",
       "      <td>-0.248239</td>\n",
       "      <td>-0.443910</td>\n",
       "      <td>...</td>\n",
       "      <td>0.061424</td>\n",
       "      <td>-0.045370</td>\n",
       "      <td>-0.342164</td>\n",
       "      <td>-0.361327</td>\n",
       "      <td>-0.314145</td>\n",
       "      <td>-0.010052</td>\n",
       "      <td>0.300835</td>\n",
       "      <td>-0.168862</td>\n",
       "      <td>-0.689554</td>\n",
       "      <td>-0.172624</td>\n",
       "    </tr>\n",
       "    <tr>\n",
       "      <th>2</th>\n",
       "      <td>0.040509</td>\n",
       "      <td>0.060470</td>\n",
       "      <td>0.248504</td>\n",
       "      <td>0.064578</td>\n",
       "      <td>-0.182704</td>\n",
       "      <td>0.000397</td>\n",
       "      <td>-0.184687</td>\n",
       "      <td>0.222780</td>\n",
       "      <td>-0.263400</td>\n",
       "      <td>-0.327549</td>\n",
       "      <td>...</td>\n",
       "      <td>0.065748</td>\n",
       "      <td>-0.043497</td>\n",
       "      <td>-0.183765</td>\n",
       "      <td>-0.177308</td>\n",
       "      <td>-0.160303</td>\n",
       "      <td>-0.004875</td>\n",
       "      <td>0.299022</td>\n",
       "      <td>-0.214953</td>\n",
       "      <td>-0.582226</td>\n",
       "      <td>-0.206942</td>\n",
       "    </tr>\n",
       "    <tr>\n",
       "      <th>3</th>\n",
       "      <td>0.036760</td>\n",
       "      <td>0.061464</td>\n",
       "      <td>0.204183</td>\n",
       "      <td>0.046449</td>\n",
       "      <td>-0.152004</td>\n",
       "      <td>-0.003311</td>\n",
       "      <td>-0.195223</td>\n",
       "      <td>-0.324864</td>\n",
       "      <td>-0.287873</td>\n",
       "      <td>-0.270221</td>\n",
       "      <td>...</td>\n",
       "      <td>0.064547</td>\n",
       "      <td>-0.043564</td>\n",
       "      <td>-0.118437</td>\n",
       "      <td>-0.073134</td>\n",
       "      <td>-0.118773</td>\n",
       "      <td>-0.015040</td>\n",
       "      <td>-0.428473</td>\n",
       "      <td>-0.223444</td>\n",
       "      <td>-0.454890</td>\n",
       "      <td>-0.280173</td>\n",
       "    </tr>\n",
       "    <tr>\n",
       "      <th>4</th>\n",
       "      <td>-0.002739</td>\n",
       "      <td>0.061806</td>\n",
       "      <td>0.154703</td>\n",
       "      <td>0.031689</td>\n",
       "      <td>-0.165334</td>\n",
       "      <td>-0.016063</td>\n",
       "      <td>-0.205048</td>\n",
       "      <td>-0.399602</td>\n",
       "      <td>-0.225255</td>\n",
       "      <td>-0.180684</td>\n",
       "      <td>...</td>\n",
       "      <td>0.075019</td>\n",
       "      <td>-0.043065</td>\n",
       "      <td>-0.070014</td>\n",
       "      <td>0.009671</td>\n",
       "      <td>-0.089780</td>\n",
       "      <td>-0.023395</td>\n",
       "      <td>-0.465585</td>\n",
       "      <td>-0.139686</td>\n",
       "      <td>-0.279272</td>\n",
       "      <td>-0.303446</td>\n",
       "    </tr>\n",
       "  </tbody>\n",
       "</table>\n",
       "<p>5 rows × 39 columns</p>\n",
       "</div>"
      ],
      "text/plain": [
       "     INFLOW  NFD_MEAN_FLOW  OXB_RIVER_STAGE  OXB_RIVER_DISCHARGE  \\\n",
       "0  0.046224       0.051876         0.237069             0.063465   \n",
       "1  0.046656       0.057364         0.244207             0.064644   \n",
       "2  0.040509       0.060470         0.248504             0.064578   \n",
       "3  0.036760       0.061464         0.204183             0.046449   \n",
       "4 -0.002739       0.061806         0.154703             0.031689   \n",
       "\n",
       "   CBR_RIVER_STAGE  CBR_RIVER_DISCHARGE  ADR_PRECIP_ACC  ADR_PRECIP_INCR  \\\n",
       "0        -0.401142             0.052915       -0.193228         0.317948   \n",
       "1        -0.200977             0.026400       -0.187313         0.353458   \n",
       "2        -0.182704             0.000397       -0.184687         0.222780   \n",
       "3        -0.152004            -0.003311       -0.195223        -0.324864   \n",
       "4        -0.165334            -0.016063       -0.205048        -0.399602   \n",
       "\n",
       "   ADR_TEMP_AVG  ADR_TEMP_MAX  ...  FRN_SNOW_DEPTH  FRN_SNOW_WATER_CONTENT  \\\n",
       "0     -0.136617     -0.445268  ...        0.056802               -0.047357   \n",
       "1     -0.248239     -0.443910  ...        0.061424               -0.045370   \n",
       "2     -0.263400     -0.327549  ...        0.065748               -0.043497   \n",
       "3     -0.287873     -0.270221  ...        0.064547               -0.043564   \n",
       "4     -0.225255     -0.180684  ...        0.075019               -0.043065   \n",
       "\n",
       "   FRN_TEMP_AVG  FRN_TEMP_MAX  FRN_TEMP_MIN  PFH_PRECIP_ACC  PFH_PRECIP_INCR  \\\n",
       "0     -0.467484     -0.513988     -0.433957       -0.015267         0.226186   \n",
       "1     -0.342164     -0.361327     -0.314145       -0.010052         0.300835   \n",
       "2     -0.183765     -0.177308     -0.160303       -0.004875         0.299022   \n",
       "3     -0.118437     -0.073134     -0.118773       -0.015040        -0.428473   \n",
       "4     -0.070014      0.009671     -0.089780       -0.023395        -0.465585   \n",
       "\n",
       "   PFH_TEMP_AVG  PFH_TEMP_MAX  PFH_TEMP_MIN  \n",
       "0     -0.175380     -0.606621     -0.203656  \n",
       "1     -0.168862     -0.689554     -0.172624  \n",
       "2     -0.214953     -0.582226     -0.206942  \n",
       "3     -0.223444     -0.454890     -0.280173  \n",
       "4     -0.139686     -0.279272     -0.303446  \n",
       "\n",
       "[5 rows x 39 columns]"
      ]
     },
     "execution_count": 5,
     "metadata": {},
     "output_type": "execute_result"
    }
   ],
   "source": [
    "\"\"\"\n",
    "Normalizing data\n",
    "\n",
    "Maximum absolute scaling rescales each feature between -1 and 1 by dividing every observation \n",
    "by its maximum absolute value.\n",
    "\"\"\"\n",
    "\n",
    "scaler = MinMaxScaler(feature_range=(-1, 1))\n",
    "normalized_df = scaler.fit_transform(stationary_basin_inflow)\n",
    "\n",
    "normalized_basin_inflow = pd.DataFrame(normalized_df, columns=stationary_basin_inflow.columns) \n",
    "\n",
    "normalized_basin_inflow.head()"
   ]
  },
  {
   "cell_type": "markdown",
   "id": "475da3f7",
   "metadata": {},
   "source": [
    "#### Split data"
   ]
  },
  {
   "cell_type": "code",
   "execution_count": 6,
   "id": "4c87d038",
   "metadata": {},
   "outputs": [],
   "source": [
    "# 70/20/10 split for training, validation, and test sets\n",
    "\n",
    "df_size = len(normalized_basin_inflow)\n",
    "\n",
    "basin_inflow_train = normalized_basin_inflow[0:int(df_size * 0.7)] # 70% \n",
    "\n",
    "basin_inflow_validation = normalized_basin_inflow[int(df_size * 0.7):int(df_size * 0.9)] # next 20%\n",
    "basin_inflow_validation.reset_index(drop=True, inplace=True)\n",
    "\n",
    "basin_inflow_test = normalized_basin_inflow[int(df_size * 0.9):] # last 10%\n",
    "basin_inflow_test.reset_index(drop=True, inplace=True)"
   ]
  },
  {
   "cell_type": "code",
   "execution_count": 7,
   "id": "96014b6e",
   "metadata": {},
   "outputs": [
    {
     "data": {
      "text/html": [
       "<div>\n",
       "<style scoped>\n",
       "    .dataframe tbody tr th:only-of-type {\n",
       "        vertical-align: middle;\n",
       "    }\n",
       "\n",
       "    .dataframe tbody tr th {\n",
       "        vertical-align: top;\n",
       "    }\n",
       "\n",
       "    .dataframe thead th {\n",
       "        text-align: right;\n",
       "    }\n",
       "</style>\n",
       "<table border=\"1\" class=\"dataframe\">\n",
       "  <thead>\n",
       "    <tr style=\"text-align: right;\">\n",
       "      <th></th>\n",
       "      <th>INFLOW</th>\n",
       "      <th>NFD_MEAN_FLOW</th>\n",
       "      <th>OXB_RIVER_STAGE</th>\n",
       "      <th>OXB_RIVER_DISCHARGE</th>\n",
       "      <th>CBR_RIVER_STAGE</th>\n",
       "      <th>CBR_RIVER_DISCHARGE</th>\n",
       "      <th>ADR_PRECIP_ACC</th>\n",
       "      <th>ADR_PRECIP_INCR</th>\n",
       "      <th>ADR_TEMP_AVG</th>\n",
       "      <th>ADR_TEMP_MAX</th>\n",
       "      <th>...</th>\n",
       "      <th>FRN_SNOW_DEPTH</th>\n",
       "      <th>FRN_SNOW_WATER_CONTENT</th>\n",
       "      <th>FRN_TEMP_AVG</th>\n",
       "      <th>FRN_TEMP_MAX</th>\n",
       "      <th>FRN_TEMP_MIN</th>\n",
       "      <th>PFH_PRECIP_ACC</th>\n",
       "      <th>PFH_PRECIP_INCR</th>\n",
       "      <th>PFH_TEMP_AVG</th>\n",
       "      <th>PFH_TEMP_MAX</th>\n",
       "      <th>PFH_TEMP_MIN</th>\n",
       "    </tr>\n",
       "  </thead>\n",
       "  <tbody>\n",
       "    <tr>\n",
       "      <th>518</th>\n",
       "      <td>-0.057453</td>\n",
       "      <td>-0.069672</td>\n",
       "      <td>-0.048471</td>\n",
       "      <td>-0.055036</td>\n",
       "      <td>0.110833</td>\n",
       "      <td>0.030613</td>\n",
       "      <td>-0.315073</td>\n",
       "      <td>-0.167686</td>\n",
       "      <td>-0.028035</td>\n",
       "      <td>0.076778</td>\n",
       "      <td>...</td>\n",
       "      <td>0.161965</td>\n",
       "      <td>0.002282</td>\n",
       "      <td>0.176226</td>\n",
       "      <td>0.273295</td>\n",
       "      <td>0.082711</td>\n",
       "      <td>-0.172650</td>\n",
       "      <td>-0.067776</td>\n",
       "      <td>0.019043</td>\n",
       "      <td>-0.024976</td>\n",
       "      <td>-0.232790</td>\n",
       "    </tr>\n",
       "    <tr>\n",
       "      <th>519</th>\n",
       "      <td>-0.046580</td>\n",
       "      <td>-0.049674</td>\n",
       "      <td>-0.034969</td>\n",
       "      <td>-0.046170</td>\n",
       "      <td>0.137346</td>\n",
       "      <td>0.046753</td>\n",
       "      <td>-0.321772</td>\n",
       "      <td>-0.149572</td>\n",
       "      <td>-0.019661</td>\n",
       "      <td>0.083031</td>\n",
       "      <td>...</td>\n",
       "      <td>0.148337</td>\n",
       "      <td>-0.002336</td>\n",
       "      <td>0.181140</td>\n",
       "      <td>0.291265</td>\n",
       "      <td>0.079625</td>\n",
       "      <td>-0.175266</td>\n",
       "      <td>-0.057266</td>\n",
       "      <td>0.020266</td>\n",
       "      <td>-0.025389</td>\n",
       "      <td>-0.204498</td>\n",
       "    </tr>\n",
       "    <tr>\n",
       "      <th>520</th>\n",
       "      <td>-0.035821</td>\n",
       "      <td>-0.041221</td>\n",
       "      <td>-0.028311</td>\n",
       "      <td>-0.042407</td>\n",
       "      <td>0.175412</td>\n",
       "      <td>0.066402</td>\n",
       "      <td>-0.326896</td>\n",
       "      <td>-0.087380</td>\n",
       "      <td>0.004036</td>\n",
       "      <td>0.076013</td>\n",
       "      <td>...</td>\n",
       "      <td>0.135179</td>\n",
       "      <td>-0.006897</td>\n",
       "      <td>0.196598</td>\n",
       "      <td>0.305683</td>\n",
       "      <td>0.088279</td>\n",
       "      <td>-0.177496</td>\n",
       "      <td>-0.039123</td>\n",
       "      <td>0.050523</td>\n",
       "      <td>-0.028502</td>\n",
       "      <td>-0.145959</td>\n",
       "    </tr>\n",
       "    <tr>\n",
       "      <th>521</th>\n",
       "      <td>0.003645</td>\n",
       "      <td>0.025585</td>\n",
       "      <td>-0.011379</td>\n",
       "      <td>-0.028597</td>\n",
       "      <td>0.218526</td>\n",
       "      <td>0.094591</td>\n",
       "      <td>-0.326242</td>\n",
       "      <td>0.141349</td>\n",
       "      <td>0.038101</td>\n",
       "      <td>0.072664</td>\n",
       "      <td>...</td>\n",
       "      <td>0.123689</td>\n",
       "      <td>-0.009845</td>\n",
       "      <td>0.230065</td>\n",
       "      <td>0.328739</td>\n",
       "      <td>0.128114</td>\n",
       "      <td>-0.173514</td>\n",
       "      <td>0.256248</td>\n",
       "      <td>0.100663</td>\n",
       "      <td>-0.023233</td>\n",
       "      <td>-0.068289</td>\n",
       "    </tr>\n",
       "    <tr>\n",
       "      <th>522</th>\n",
       "      <td>0.207759</td>\n",
       "      <td>0.196131</td>\n",
       "      <td>0.012426</td>\n",
       "      <td>-0.008109</td>\n",
       "      <td>0.298208</td>\n",
       "      <td>0.170347</td>\n",
       "      <td>-0.317809</td>\n",
       "      <td>0.449297</td>\n",
       "      <td>0.058071</td>\n",
       "      <td>0.079183</td>\n",
       "      <td>...</td>\n",
       "      <td>0.112940</td>\n",
       "      <td>-0.012843</td>\n",
       "      <td>0.250512</td>\n",
       "      <td>0.350308</td>\n",
       "      <td>0.142296</td>\n",
       "      <td>-0.164637</td>\n",
       "      <td>0.488933</td>\n",
       "      <td>0.133012</td>\n",
       "      <td>-0.015576</td>\n",
       "      <td>-0.018538</td>\n",
       "    </tr>\n",
       "  </tbody>\n",
       "</table>\n",
       "<p>5 rows × 39 columns</p>\n",
       "</div>"
      ],
      "text/plain": [
       "       INFLOW  NFD_MEAN_FLOW  OXB_RIVER_STAGE  OXB_RIVER_DISCHARGE  \\\n",
       "518 -0.057453      -0.069672        -0.048471            -0.055036   \n",
       "519 -0.046580      -0.049674        -0.034969            -0.046170   \n",
       "520 -0.035821      -0.041221        -0.028311            -0.042407   \n",
       "521  0.003645       0.025585        -0.011379            -0.028597   \n",
       "522  0.207759       0.196131         0.012426            -0.008109   \n",
       "\n",
       "     CBR_RIVER_STAGE  CBR_RIVER_DISCHARGE  ADR_PRECIP_ACC  ADR_PRECIP_INCR  \\\n",
       "518         0.110833             0.030613       -0.315073        -0.167686   \n",
       "519         0.137346             0.046753       -0.321772        -0.149572   \n",
       "520         0.175412             0.066402       -0.326896        -0.087380   \n",
       "521         0.218526             0.094591       -0.326242         0.141349   \n",
       "522         0.298208             0.170347       -0.317809         0.449297   \n",
       "\n",
       "     ADR_TEMP_AVG  ADR_TEMP_MAX  ...  FRN_SNOW_DEPTH  FRN_SNOW_WATER_CONTENT  \\\n",
       "518     -0.028035      0.076778  ...        0.161965                0.002282   \n",
       "519     -0.019661      0.083031  ...        0.148337               -0.002336   \n",
       "520      0.004036      0.076013  ...        0.135179               -0.006897   \n",
       "521      0.038101      0.072664  ...        0.123689               -0.009845   \n",
       "522      0.058071      0.079183  ...        0.112940               -0.012843   \n",
       "\n",
       "     FRN_TEMP_AVG  FRN_TEMP_MAX  FRN_TEMP_MIN  PFH_PRECIP_ACC  \\\n",
       "518      0.176226      0.273295      0.082711       -0.172650   \n",
       "519      0.181140      0.291265      0.079625       -0.175266   \n",
       "520      0.196598      0.305683      0.088279       -0.177496   \n",
       "521      0.230065      0.328739      0.128114       -0.173514   \n",
       "522      0.250512      0.350308      0.142296       -0.164637   \n",
       "\n",
       "     PFH_PRECIP_INCR  PFH_TEMP_AVG  PFH_TEMP_MAX  PFH_TEMP_MIN  \n",
       "518        -0.067776      0.019043     -0.024976     -0.232790  \n",
       "519        -0.057266      0.020266     -0.025389     -0.204498  \n",
       "520        -0.039123      0.050523     -0.028502     -0.145959  \n",
       "521         0.256248      0.100663     -0.023233     -0.068289  \n",
       "522         0.488933      0.133012     -0.015576     -0.018538  \n",
       "\n",
       "[5 rows x 39 columns]"
      ]
     },
     "execution_count": 7,
     "metadata": {},
     "output_type": "execute_result"
    }
   ],
   "source": [
    "basin_inflow_test.tail()"
   ]
  },
  {
   "cell_type": "code",
   "execution_count": 8,
   "id": "60024804",
   "metadata": {},
   "outputs": [
    {
     "data": {
      "text/html": [
       "<div>\n",
       "<style scoped>\n",
       "    .dataframe tbody tr th:only-of-type {\n",
       "        vertical-align: middle;\n",
       "    }\n",
       "\n",
       "    .dataframe tbody tr th {\n",
       "        vertical-align: top;\n",
       "    }\n",
       "\n",
       "    .dataframe thead th {\n",
       "        text-align: right;\n",
       "    }\n",
       "</style>\n",
       "<table border=\"1\" class=\"dataframe\">\n",
       "  <thead>\n",
       "    <tr style=\"text-align: right;\">\n",
       "      <th></th>\n",
       "      <th>INFLOW</th>\n",
       "      <th>NFD_MEAN_FLOW</th>\n",
       "      <th>OXB_RIVER_STAGE</th>\n",
       "      <th>OXB_RIVER_DISCHARGE</th>\n",
       "      <th>CBR_RIVER_STAGE</th>\n",
       "      <th>CBR_RIVER_DISCHARGE</th>\n",
       "      <th>ADR_PRECIP_ACC</th>\n",
       "      <th>ADR_PRECIP_INCR</th>\n",
       "      <th>ADR_TEMP_AVG</th>\n",
       "      <th>ADR_TEMP_MAX</th>\n",
       "      <th>...</th>\n",
       "      <th>FRN_SNOW_DEPTH</th>\n",
       "      <th>FRN_SNOW_WATER_CONTENT</th>\n",
       "      <th>FRN_TEMP_AVG</th>\n",
       "      <th>FRN_TEMP_MAX</th>\n",
       "      <th>FRN_TEMP_MIN</th>\n",
       "      <th>PFH_PRECIP_ACC</th>\n",
       "      <th>PFH_PRECIP_INCR</th>\n",
       "      <th>PFH_TEMP_AVG</th>\n",
       "      <th>PFH_TEMP_MAX</th>\n",
       "      <th>PFH_TEMP_MIN</th>\n",
       "    </tr>\n",
       "  </thead>\n",
       "  <tbody>\n",
       "    <tr>\n",
       "      <th>0</th>\n",
       "      <td>0.046224</td>\n",
       "      <td>0.051876</td>\n",
       "      <td>0.237069</td>\n",
       "      <td>0.063465</td>\n",
       "      <td>-0.401142</td>\n",
       "      <td>0.052915</td>\n",
       "      <td>-0.193228</td>\n",
       "      <td>0.317948</td>\n",
       "      <td>-0.136617</td>\n",
       "      <td>-0.445268</td>\n",
       "      <td>...</td>\n",
       "      <td>0.056802</td>\n",
       "      <td>-0.047357</td>\n",
       "      <td>-0.467484</td>\n",
       "      <td>-0.513988</td>\n",
       "      <td>-0.433957</td>\n",
       "      <td>-0.015267</td>\n",
       "      <td>0.226186</td>\n",
       "      <td>-0.175380</td>\n",
       "      <td>-0.606621</td>\n",
       "      <td>-0.203656</td>\n",
       "    </tr>\n",
       "    <tr>\n",
       "      <th>1</th>\n",
       "      <td>0.046656</td>\n",
       "      <td>0.057364</td>\n",
       "      <td>0.244207</td>\n",
       "      <td>0.064644</td>\n",
       "      <td>-0.200977</td>\n",
       "      <td>0.026400</td>\n",
       "      <td>-0.187313</td>\n",
       "      <td>0.353458</td>\n",
       "      <td>-0.248239</td>\n",
       "      <td>-0.443910</td>\n",
       "      <td>...</td>\n",
       "      <td>0.061424</td>\n",
       "      <td>-0.045370</td>\n",
       "      <td>-0.342164</td>\n",
       "      <td>-0.361327</td>\n",
       "      <td>-0.314145</td>\n",
       "      <td>-0.010052</td>\n",
       "      <td>0.300835</td>\n",
       "      <td>-0.168862</td>\n",
       "      <td>-0.689554</td>\n",
       "      <td>-0.172624</td>\n",
       "    </tr>\n",
       "    <tr>\n",
       "      <th>2</th>\n",
       "      <td>0.040509</td>\n",
       "      <td>0.060470</td>\n",
       "      <td>0.248504</td>\n",
       "      <td>0.064578</td>\n",
       "      <td>-0.182704</td>\n",
       "      <td>0.000397</td>\n",
       "      <td>-0.184687</td>\n",
       "      <td>0.222780</td>\n",
       "      <td>-0.263400</td>\n",
       "      <td>-0.327549</td>\n",
       "      <td>...</td>\n",
       "      <td>0.065748</td>\n",
       "      <td>-0.043497</td>\n",
       "      <td>-0.183765</td>\n",
       "      <td>-0.177308</td>\n",
       "      <td>-0.160303</td>\n",
       "      <td>-0.004875</td>\n",
       "      <td>0.299022</td>\n",
       "      <td>-0.214953</td>\n",
       "      <td>-0.582226</td>\n",
       "      <td>-0.206942</td>\n",
       "    </tr>\n",
       "    <tr>\n",
       "      <th>3</th>\n",
       "      <td>0.036760</td>\n",
       "      <td>0.061464</td>\n",
       "      <td>0.204183</td>\n",
       "      <td>0.046449</td>\n",
       "      <td>-0.152004</td>\n",
       "      <td>-0.003311</td>\n",
       "      <td>-0.195223</td>\n",
       "      <td>-0.324864</td>\n",
       "      <td>-0.287873</td>\n",
       "      <td>-0.270221</td>\n",
       "      <td>...</td>\n",
       "      <td>0.064547</td>\n",
       "      <td>-0.043564</td>\n",
       "      <td>-0.118437</td>\n",
       "      <td>-0.073134</td>\n",
       "      <td>-0.118773</td>\n",
       "      <td>-0.015040</td>\n",
       "      <td>-0.428473</td>\n",
       "      <td>-0.223444</td>\n",
       "      <td>-0.454890</td>\n",
       "      <td>-0.280173</td>\n",
       "    </tr>\n",
       "    <tr>\n",
       "      <th>4</th>\n",
       "      <td>-0.002739</td>\n",
       "      <td>0.061806</td>\n",
       "      <td>0.154703</td>\n",
       "      <td>0.031689</td>\n",
       "      <td>-0.165334</td>\n",
       "      <td>-0.016063</td>\n",
       "      <td>-0.205048</td>\n",
       "      <td>-0.399602</td>\n",
       "      <td>-0.225255</td>\n",
       "      <td>-0.180684</td>\n",
       "      <td>...</td>\n",
       "      <td>0.075019</td>\n",
       "      <td>-0.043065</td>\n",
       "      <td>-0.070014</td>\n",
       "      <td>0.009671</td>\n",
       "      <td>-0.089780</td>\n",
       "      <td>-0.023395</td>\n",
       "      <td>-0.465585</td>\n",
       "      <td>-0.139686</td>\n",
       "      <td>-0.279272</td>\n",
       "      <td>-0.303446</td>\n",
       "    </tr>\n",
       "  </tbody>\n",
       "</table>\n",
       "<p>5 rows × 39 columns</p>\n",
       "</div>"
      ],
      "text/plain": [
       "     INFLOW  NFD_MEAN_FLOW  OXB_RIVER_STAGE  OXB_RIVER_DISCHARGE  \\\n",
       "0  0.046224       0.051876         0.237069             0.063465   \n",
       "1  0.046656       0.057364         0.244207             0.064644   \n",
       "2  0.040509       0.060470         0.248504             0.064578   \n",
       "3  0.036760       0.061464         0.204183             0.046449   \n",
       "4 -0.002739       0.061806         0.154703             0.031689   \n",
       "\n",
       "   CBR_RIVER_STAGE  CBR_RIVER_DISCHARGE  ADR_PRECIP_ACC  ADR_PRECIP_INCR  \\\n",
       "0        -0.401142             0.052915       -0.193228         0.317948   \n",
       "1        -0.200977             0.026400       -0.187313         0.353458   \n",
       "2        -0.182704             0.000397       -0.184687         0.222780   \n",
       "3        -0.152004            -0.003311       -0.195223        -0.324864   \n",
       "4        -0.165334            -0.016063       -0.205048        -0.399602   \n",
       "\n",
       "   ADR_TEMP_AVG  ADR_TEMP_MAX  ...  FRN_SNOW_DEPTH  FRN_SNOW_WATER_CONTENT  \\\n",
       "0     -0.136617     -0.445268  ...        0.056802               -0.047357   \n",
       "1     -0.248239     -0.443910  ...        0.061424               -0.045370   \n",
       "2     -0.263400     -0.327549  ...        0.065748               -0.043497   \n",
       "3     -0.287873     -0.270221  ...        0.064547               -0.043564   \n",
       "4     -0.225255     -0.180684  ...        0.075019               -0.043065   \n",
       "\n",
       "   FRN_TEMP_AVG  FRN_TEMP_MAX  FRN_TEMP_MIN  PFH_PRECIP_ACC  PFH_PRECIP_INCR  \\\n",
       "0     -0.467484     -0.513988     -0.433957       -0.015267         0.226186   \n",
       "1     -0.342164     -0.361327     -0.314145       -0.010052         0.300835   \n",
       "2     -0.183765     -0.177308     -0.160303       -0.004875         0.299022   \n",
       "3     -0.118437     -0.073134     -0.118773       -0.015040        -0.428473   \n",
       "4     -0.070014      0.009671     -0.089780       -0.023395        -0.465585   \n",
       "\n",
       "   PFH_TEMP_AVG  PFH_TEMP_MAX  PFH_TEMP_MIN  \n",
       "0     -0.175380     -0.606621     -0.203656  \n",
       "1     -0.168862     -0.689554     -0.172624  \n",
       "2     -0.214953     -0.582226     -0.206942  \n",
       "3     -0.223444     -0.454890     -0.280173  \n",
       "4     -0.139686     -0.279272     -0.303446  \n",
       "\n",
       "[5 rows x 39 columns]"
      ]
     },
     "execution_count": 8,
     "metadata": {},
     "output_type": "execute_result"
    }
   ],
   "source": [
    "basin_inflow_train.head()"
   ]
  },
  {
   "cell_type": "markdown",
   "id": "748d978f",
   "metadata": {},
   "source": [
    "### Data windowing"
   ]
  },
  {
   "cell_type": "code",
   "execution_count": 9,
   "id": "d373e853",
   "metadata": {},
   "outputs": [],
   "source": [
    "# TensorFlow utility class for producing data windows from time series data\n",
    "\n",
    "class WindowGenerator():\n",
    "  def __init__(self, input_width, label_width, shift,\n",
    "               train_df, val_df, test_df,\n",
    "               label_columns=None):\n",
    "    # Store the raw data.\n",
    "    self.train_df = train_df\n",
    "    self.val_df = val_df\n",
    "    self.test_df = test_df\n",
    "    \n",
    "    self.column_indices = {name: i for i, name in\n",
    "                           enumerate(train_df.columns)}\n",
    "    \n",
    "    # Work out the label column indices.\n",
    "    self.label_columns = label_columns\n",
    "    if label_columns is not None:\n",
    "      self.label_columns_indices = {name: i for i, name in\n",
    "                                    enumerate(label_columns)}\n",
    "\n",
    "    # Work out the window parameters.\n",
    "    self.input_width = input_width\n",
    "    self.label_width = label_width\n",
    "    self.shift = shift\n",
    "\n",
    "    self.total_window_size = input_width + shift\n",
    "\n",
    "    self.input_slice = slice(0, input_width)\n",
    "    self.input_indices = np.arange(self.total_window_size)[self.input_slice]\n",
    "\n",
    "    self.label_start = self.total_window_size - self.label_width\n",
    "    self.labels_slice = slice(self.label_start, None)\n",
    "    self.label_indices = np.arange(self.total_window_size)[self.labels_slice]"
   ]
  },
  {
   "cell_type": "code",
   "execution_count": 10,
   "id": "aeb825cc",
   "metadata": {},
   "outputs": [
    {
     "data": {
      "text/plain": [
       "<__main__.WindowGenerator at 0x283af1310>"
      ]
     },
     "execution_count": 10,
     "metadata": {},
     "output_type": "execute_result"
    }
   ],
   "source": [
    "\"\"\"\n",
    "Window\n",
    "- Given 60 days of history predict 30 days into the future. Why? A season is about 90 days in a CA WY\n",
    "- Window size: 90\n",
    "\"\"\"\n",
    "\n",
    "window = WindowGenerator(input_width=60, label_width=1, shift=30,\n",
    "                     train_df=basin_inflow_train, val_df=basin_inflow_validation, \n",
    "                     test_df=basin_inflow_test, label_columns=['INFLOW'])\n",
    "\n",
    "window"
   ]
  },
  {
   "cell_type": "code",
   "execution_count": 11,
   "id": "379f5c38",
   "metadata": {},
   "outputs": [],
   "source": [
    "# create a window of inputs and labels\n",
    "\n",
    "def split_window(self, features):\n",
    "  inputs = features[:, self.input_slice, :]\n",
    "  labels = features[:, self.labels_slice, :]\n",
    "  if self.label_columns is not None:\n",
    "    labels = tf.stack(\n",
    "        [labels[:, :, self.column_indices[name]] for name in self.label_columns],\n",
    "        axis=-1)\n",
    "\n",
    "  # set shapes after slicing\n",
    "  inputs.set_shape([None, self.input_width, None])\n",
    "  labels.set_shape([None, self.label_width, None])\n",
    "\n",
    "  return inputs, labels\n",
    "\n",
    "WindowGenerator.split_window = split_window"
   ]
  },
  {
   "cell_type": "code",
   "execution_count": 12,
   "id": "3e37dcdb",
   "metadata": {},
   "outputs": [],
   "source": [
    "# create a dataset of sliding windows over a time series dataframe\n",
    "\n",
    "def make_dataset(self, data):\n",
    "  data = np.array(data, dtype=np.float32)\n",
    "  ds = tf.keras.utils.timeseries_dataset_from_array(\n",
    "      data=data,\n",
    "      targets=None,\n",
    "      sequence_length=self.total_window_size,\n",
    "      sequence_stride=1,\n",
    "      shuffle=True,\n",
    "      batch_size=32,)\n",
    "\n",
    "  # (input_window, label_window) pairs \n",
    "  ds = ds.map(self.split_window)\n",
    "\n",
    "  return ds\n",
    "\n",
    "WindowGenerator.make_dataset = make_dataset"
   ]
  },
  {
   "cell_type": "code",
   "execution_count": 13,
   "id": "5f27daf2",
   "metadata": {},
   "outputs": [],
   "source": [
    "@property\n",
    "def train(self):\n",
    "  return self.make_dataset(self.train_df)\n",
    "\n",
    "@property\n",
    "def val(self):\n",
    "  return self.make_dataset(self.val_df)\n",
    "\n",
    "@property\n",
    "def test(self):\n",
    "  return self.make_dataset(self.test_df)\n",
    "\n",
    "WindowGenerator.train = train\n",
    "WindowGenerator.val = val\n",
    "WindowGenerator.test = test"
   ]
  },
  {
   "cell_type": "code",
   "execution_count": 14,
   "id": "70d6de41",
   "metadata": {},
   "outputs": [
    {
     "data": {
      "text/plain": [
       "(TensorSpec(shape=(None, 60, 39), dtype=tf.float32, name=None),\n",
       " TensorSpec(shape=(None, 1, 1), dtype=tf.float32, name=None))"
      ]
     },
     "execution_count": 14,
     "metadata": {},
     "output_type": "execute_result"
    }
   ],
   "source": [
    "# each element is an (inputs, label) pair\n",
    "window.train.element_spec"
   ]
  },
  {
   "cell_type": "code",
   "execution_count": 15,
   "id": "dd26e712",
   "metadata": {},
   "outputs": [
    {
     "name": "stdout",
     "output_type": "stream",
     "text": [
      "Inputs shape (batch, time, features): (32, 60, 39)\n",
      "Labels shape (batch, time, features): (32, 1, 1)\n"
     ]
    }
   ],
   "source": [
    "# example batch\n",
    "for inputs, labels in window.train.take(1):\n",
    "  print(f'Inputs shape (batch, time, features): {inputs.shape}')\n",
    "  print(f'Labels shape (batch, time, features): {labels.shape}')"
   ]
  },
  {
   "cell_type": "markdown",
   "id": "fccd065a",
   "metadata": {},
   "source": [
    "### Modeling"
   ]
  },
  {
   "cell_type": "code",
   "execution_count": 16,
   "id": "7fb21668",
   "metadata": {},
   "outputs": [],
   "source": [
    "val_performance = {}\n",
    "test_performance = {}"
   ]
  },
  {
   "cell_type": "markdown",
   "id": "37286bc8",
   "metadata": {},
   "source": [
    "#### Create baseline"
   ]
  },
  {
   "cell_type": "code",
   "execution_count": 17,
   "id": "29a12380",
   "metadata": {},
   "outputs": [],
   "source": [
    "# tensorflow baseline utility class for data windowing\n",
    "\n",
    "class Baseline(tf.keras.Model):\n",
    "  def __init__(self, label_index=None):\n",
    "    super().__init__()\n",
    "    self.label_index = label_index\n",
    "\n",
    "  def call(self, inputs):\n",
    "    if self.label_index is None:\n",
    "      return inputs\n",
    "    result = inputs[:, :, self.label_index]\n",
    "    return result[:, :, tf.newaxis]"
   ]
  },
  {
   "cell_type": "code",
   "execution_count": 18,
   "id": "c392c721",
   "metadata": {},
   "outputs": [
    {
     "name": "stdout",
     "output_type": "stream",
     "text": [
      "30/30 [==============================] - 0s 490us/step - loss: 0.0870 - mean_absolute_error: 0.0870\n"
     ]
    }
   ],
   "source": [
    "baseline = Baseline(label_index=window.column_indices['INFLOW'])\n",
    "\n",
    "baseline.compile(loss=tf.keras.losses.MeanAbsoluteError(),\n",
    "                 metrics=[tf.keras.metrics.MeanAbsoluteError()])\n",
    "\n",
    "val_performance['Baseline'] = baseline.evaluate(window.val)\n",
    "test_performance['Baseline'] = baseline.evaluate(window.test, verbose=0)"
   ]
  },
  {
   "cell_type": "markdown",
   "id": "9742bf48",
   "metadata": {},
   "source": [
    "#### LSTM"
   ]
  },
  {
   "cell_type": "code",
   "execution_count": 19,
   "id": "fa2344c1",
   "metadata": {},
   "outputs": [],
   "source": [
    "MAX_EPOCHS = 10\n",
    "\n",
    "def compile_and_fit(model, window, patience=2):\n",
    "  early_stopping = tf.keras.callbacks.EarlyStopping(monitor='val_loss',\n",
    "                                                    patience=patience,\n",
    "                                                    mode='min')\n",
    "\n",
    "  logdir = os.path.join(\"logs\", datetime.datetime.now().strftime(\"%Y%m%d-%H%M%S\"))\n",
    "  tensorboard_callback = tf.keras.callbacks.TensorBoard(logdir, histogram_freq=1)\n",
    "\n",
    "  model.compile(loss=tf.keras.losses.MeanAbsoluteError(),\n",
    "                optimizer=tf.keras.optimizers.legacy.Adam())\n",
    "\n",
    "  history = model.fit(window.train, epochs=MAX_EPOCHS,\n",
    "                      validation_data=window.val,\n",
    "                      callbacks=[early_stopping, tensorboard_callback])\n",
    "  return history"
   ]
  },
  {
   "cell_type": "markdown",
   "id": "2372162e",
   "metadata": {},
   "source": [
    "LSTM 1"
   ]
  },
  {
   "cell_type": "code",
   "execution_count": 20,
   "id": "c3d2634c",
   "metadata": {},
   "outputs": [],
   "source": [
    "\"\"\"\n",
    "Inputs shape (batch, time, features): (32, 60, 39) - 32 batch size, 60 time steps, 39 features\n",
    "\"\"\"\n",
    "\n",
    "lstm_v1 = tf.keras.models.Sequential([\n",
    "    # Shape [batch, time, features] => [batch, time, lstm_units]\n",
    "    tf.keras.layers.LSTM(32, return_sequences=True, input_shape=[None, 39]),\n",
    "    tf.keras.layers.Dense(units=1)\n",
    "])"
   ]
  },
  {
   "cell_type": "code",
   "execution_count": 21,
   "id": "d02e6ccd",
   "metadata": {},
   "outputs": [
    {
     "name": "stdout",
     "output_type": "stream",
     "text": [
      "Epoch 1/10\n",
      "112/112 [==============================] - 2s 9ms/step - loss: 0.0857 - val_loss: 0.0776\n",
      "Epoch 2/10\n",
      "112/112 [==============================] - 1s 7ms/step - loss: 0.0622 - val_loss: 0.0880\n",
      "Epoch 3/10\n",
      "112/112 [==============================] - 1s 7ms/step - loss: 0.0567 - val_loss: 0.0960\n"
     ]
    }
   ],
   "source": [
    "history_lstm_v1 = compile_and_fit(lstm_v1, window)"
   ]
  },
  {
   "cell_type": "code",
   "execution_count": 22,
   "id": "e1381954",
   "metadata": {},
   "outputs": [],
   "source": [
    "# %tensorboard --logdir logs"
   ]
  },
  {
   "cell_type": "code",
   "execution_count": 23,
   "id": "400cf07e",
   "metadata": {},
   "outputs": [
    {
     "name": "stdout",
     "output_type": "stream",
     "text": [
      "30/30 [==============================] - 0s 2ms/step - loss: 0.0960\n",
      "LSTM 1 Validation performance:  0.09596401453018188\n",
      "LSTM 1 Test performance:  0.04411937668919563\n"
     ]
    }
   ],
   "source": [
    "val_performance['LSTM1'] = lstm_v1.evaluate(window.val)\n",
    "test_performance['LSTM1'] = lstm_v1.evaluate(window.test, verbose=0)\n",
    "\n",
    "print('LSTM 1 Validation performance: ', val_performance['LSTM1'])\n",
    "print('LSTM 1 Test performance: ', test_performance['LSTM1'])"
   ]
  },
  {
   "cell_type": "markdown",
   "id": "5a035828",
   "metadata": {},
   "source": [
    "LSTM 2"
   ]
  },
  {
   "cell_type": "code",
   "execution_count": 24,
   "id": "6ce4faed",
   "metadata": {},
   "outputs": [],
   "source": [
    "lstm_v2 = tf.keras.models.Sequential([\n",
    "    # Shape [batch, time, features] => [batch, time, lstm_units]\n",
    "    tf.keras.layers.LSTM(32, return_sequences=True, input_shape=[None, 39]),\n",
    "    tf.keras.layers.LSTM(32),\n",
    "    tf.keras.layers.Dense(units=1)\n",
    "])"
   ]
  },
  {
   "cell_type": "code",
   "execution_count": 25,
   "id": "e28ec0a8",
   "metadata": {},
   "outputs": [
    {
     "name": "stdout",
     "output_type": "stream",
     "text": [
      "Epoch 1/10\n",
      "112/112 [==============================] - 4s 18ms/step - loss: 0.0680 - val_loss: 0.0702\n",
      "Epoch 2/10\n",
      "112/112 [==============================] - 2s 14ms/step - loss: 0.0489 - val_loss: 0.0840\n",
      "Epoch 3/10\n",
      "112/112 [==============================] - 2s 14ms/step - loss: 0.0413 - val_loss: 0.0970\n"
     ]
    }
   ],
   "source": [
    "history_lstm_v2 = compile_and_fit(lstm_v2, window)"
   ]
  },
  {
   "cell_type": "code",
   "execution_count": 26,
   "id": "1c735a25",
   "metadata": {},
   "outputs": [
    {
     "name": "stdout",
     "output_type": "stream",
     "text": [
      "30/30 [==============================] - 0s 3ms/step - loss: 0.0970\n",
      "LSTM 2 Validation performance:  0.09702549874782562\n",
      "LSTM 2 Test performance:  0.05021598935127258\n"
     ]
    }
   ],
   "source": [
    "val_performance['LSTM2'] = lstm_v2.evaluate(window.val)\n",
    "test_performance['LSTM2'] = lstm_v2.evaluate(window.test, verbose=0)\n",
    "\n",
    "print('LSTM 2 Validation performance: ', val_performance['LSTM2'])\n",
    "print('LSTM 2 Test performance: ', test_performance['LSTM2'])"
   ]
  },
  {
   "cell_type": "markdown",
   "id": "9a115cd1",
   "metadata": {},
   "source": [
    "LSTM 3"
   ]
  },
  {
   "cell_type": "code",
   "execution_count": 27,
   "id": "f2035563",
   "metadata": {},
   "outputs": [],
   "source": [
    "RegularizedLSTM = partial(tf.keras.layers.LSTM,\n",
    "                           dropout=0.01,\n",
    "                           recurrent_dropout=0.01,\n",
    "                           kernel_regularizer=tf.keras.regularizers.l2(0.05))"
   ]
  },
  {
   "cell_type": "code",
   "execution_count": 28,
   "id": "704200c8",
   "metadata": {},
   "outputs": [],
   "source": [
    "lstm_v3 = tf.keras.models.Sequential([\n",
    "    RegularizedLSTM(32, return_sequences=True, input_shape=[None, 39]),\n",
    "    RegularizedLSTM(32),\n",
    "    tf.keras.layers.Dense(units=1)\n",
    "])"
   ]
  },
  {
   "cell_type": "code",
   "execution_count": 29,
   "id": "8a5453af",
   "metadata": {},
   "outputs": [
    {
     "name": "stdout",
     "output_type": "stream",
     "text": [
      "Epoch 1/10\n",
      "112/112 [==============================] - 7s 34ms/step - loss: 2.6739 - val_loss: 0.8742\n",
      "Epoch 2/10\n",
      "112/112 [==============================] - 4s 34ms/step - loss: 0.3962 - val_loss: 0.1390\n",
      "Epoch 3/10\n",
      "112/112 [==============================] - 4s 34ms/step - loss: 0.0955 - val_loss: 0.0667\n",
      "Epoch 4/10\n",
      "112/112 [==============================] - 4s 35ms/step - loss: 0.0686 - val_loss: 0.0715\n",
      "Epoch 5/10\n",
      "112/112 [==============================] - 4s 35ms/step - loss: 0.0659 - val_loss: 0.0621\n",
      "Epoch 6/10\n",
      "112/112 [==============================] - 4s 35ms/step - loss: 0.0666 - val_loss: 0.0670\n",
      "Epoch 7/10\n",
      "112/112 [==============================] - 4s 35ms/step - loss: 0.0651 - val_loss: 0.0701\n"
     ]
    }
   ],
   "source": [
    "history_lstm_v3 = compile_and_fit(lstm_v3, window)"
   ]
  },
  {
   "cell_type": "code",
   "execution_count": 30,
   "id": "be242d4a",
   "metadata": {},
   "outputs": [
    {
     "name": "stdout",
     "output_type": "stream",
     "text": [
      "30/30 [==============================] - 0s 4ms/step - loss: 0.0701\n",
      "LSTM 3 Validation performance:  0.07005796581506729\n",
      "LSTM 3 Test performance:  0.045485720038414\n"
     ]
    }
   ],
   "source": [
    "val_performance['LSTM3'] = lstm_v3.evaluate(window.val)\n",
    "test_performance['LSTM3'] = lstm_v3.evaluate(window.test, verbose=0)\n",
    "\n",
    "print('LSTM 3 Validation performance: ', val_performance['LSTM3'])\n",
    "print('LSTM 3 Test performance: ', test_performance['LSTM3'])"
   ]
  },
  {
   "cell_type": "markdown",
   "id": "6db2f773",
   "metadata": {},
   "source": [
    "#### Hyperparameter tuning"
   ]
  },
  {
   "cell_type": "code",
   "execution_count": 31,
   "id": "6b1cd773",
   "metadata": {},
   "outputs": [],
   "source": [
    "def build_model(hp):\n",
    "  lstm = keras.Sequential()\n",
    "\n",
    "  ### Tuning hyperparameters ### \n",
    "\n",
    "  # Number of lstm layer units\n",
    "  hp_units = hp.Int('units', min_value=32, max_value=128, step=32)\n",
    "\n",
    "  # Dropout rate applied to input values\n",
    "  hp_dropout = hp.Choice(\"dropout\", [0.2, 0.3, 0.4, 0.5])\n",
    "\n",
    "  # Recurrent dropout rate applied to hidden cell states between time steps\n",
    "  hp_recurrent_dropout = hp.Choice(\"recurrent_dropout\", [0.2, 0.3, 0.4, 0.5])\n",
    "  \n",
    "  # L2 regularization \n",
    "  hp_l2_reg = hp.Choice(\"l2\", [0.001, 0.01, 0.02, 0.05])\n",
    "\n",
    "  # Optimizer learning rate\n",
    "  hp_learning_rate = hp.Choice('learning_rate', values=[0.01, 0.001, 0.0001])\n",
    "\n",
    "  ### Layers ### \n",
    "  \n",
    "  lstm.add(tf.keras.layers.LSTM(units=hp_units, dropout=hp_dropout, recurrent_dropout=hp_recurrent_dropout, \n",
    "                  kernel_regularizer=tf.keras.regularizers.l2(l2=hp_l2_reg),\n",
    "                  return_sequences=True, input_shape=[None, 39]))\n",
    "    \n",
    "  lstm.add(tf.keras.layers.LSTM(units=hp_units, dropout=hp_dropout, recurrent_dropout=hp_recurrent_dropout, \n",
    "                  kernel_regularizer=tf.keras.regularizers.l2(l2=hp_l2_reg)))\n",
    "    \n",
    "  lstm.add(keras.layers.Dense(1))    \n",
    "    \n",
    "  ### Compile ### \n",
    "           \n",
    "  lstm.compile(loss=tf.keras.losses.MeanAbsoluteError(),\n",
    "               optimizer=tf.keras.optimizers.legacy.Adam(learning_rate=hp_learning_rate),\n",
    "               metrics=['mean_absolute_error'])\n",
    "\n",
    "  return lstm"
   ]
  },
  {
   "cell_type": "code",
   "execution_count": null,
   "id": "535e5c4d",
   "metadata": {},
   "outputs": [],
   "source": [
    "tuner = kt.Hyperband(build_model,\n",
    "                     objective='val_mean_absolute_error',\n",
    "                     max_epochs=10,\n",
    "                     factor=3,\n",
    "                     directory=HP_TUNING_PATH,\n",
    "                     project_name='reservoir_model_hp_tuning_v3')"
   ]
  },
  {
   "cell_type": "code",
   "execution_count": 33,
   "id": "b8071be1",
   "metadata": {},
   "outputs": [],
   "source": [
    "MAX_EPOCHS = 10\n",
    "early_stopping = tf.keras.callbacks.EarlyStopping(monitor='val_loss', patience=5, mode='min')"
   ]
  },
  {
   "cell_type": "code",
   "execution_count": 34,
   "id": "9a5ce375",
   "metadata": {},
   "outputs": [],
   "source": [
    "# args for search are those used for model fit\n",
    "tuner.search(window.train, epochs=MAX_EPOCHS, validation_data=window.val, callbacks=[early_stopping])"
   ]
  },
  {
   "cell_type": "code",
   "execution_count": 35,
   "id": "7111e63b",
   "metadata": {},
   "outputs": [
    {
     "name": "stdout",
     "output_type": "stream",
     "text": [
      "\n",
      "The hyperparameter search is complete and below are the optimal values:\n",
      "\n",
      "- Units: 32\n",
      "- Dropout: 0.4\n",
      "- Recurrent dropout: 0.3\n",
      "- L2: 0.02\n",
      "- Learning rate: 0.01\n",
      "\n"
     ]
    }
   ],
   "source": [
    "# Get the optimal hyperparameters\n",
    "best_hps=tuner.get_best_hyperparameters(num_trials=1)[0]\n",
    "\n",
    "print(f\"\"\"\n",
    "The hyperparameter search is complete and below are the optimal values:\n",
    "\n",
    "- Units: {best_hps.get('units')}\n",
    "- Dropout: {best_hps.get('dropout')}\n",
    "- Recurrent dropout: {best_hps.get('recurrent_dropout')}\n",
    "- L2: {best_hps.get('l2')}\n",
    "- Learning rate: {best_hps.get('learning_rate')}\n",
    "\"\"\")"
   ]
  },
  {
   "cell_type": "markdown",
   "id": "03e8324d",
   "metadata": {},
   "source": [
    "#### Train"
   ]
  },
  {
   "cell_type": "code",
   "execution_count": 36,
   "id": "5cb0f6f6",
   "metadata": {},
   "outputs": [
    {
     "name": "stdout",
     "output_type": "stream",
     "text": [
      "Epoch 1/10\n",
      "112/112 [==============================] - 6s 34ms/step - loss: 0.2255 - mean_absolute_error: 0.0728 - val_loss: 0.0615 - val_mean_absolute_error: 0.0559\n",
      "Epoch 2/10\n",
      "112/112 [==============================] - 4s 34ms/step - loss: 0.0726 - mean_absolute_error: 0.0666 - val_loss: 0.0605 - val_mean_absolute_error: 0.0561\n",
      "Epoch 3/10\n",
      "112/112 [==============================] - 4s 34ms/step - loss: 0.0734 - mean_absolute_error: 0.0670 - val_loss: 0.0592 - val_mean_absolute_error: 0.0541\n",
      "Epoch 4/10\n",
      "112/112 [==============================] - 4s 34ms/step - loss: 0.0712 - mean_absolute_error: 0.0657 - val_loss: 0.0624 - val_mean_absolute_error: 0.0576\n",
      "Epoch 5/10\n",
      "112/112 [==============================] - 4s 35ms/step - loss: 0.0711 - mean_absolute_error: 0.0657 - val_loss: 0.0575 - val_mean_absolute_error: 0.0515\n",
      "Epoch 6/10\n",
      "112/112 [==============================] - 4s 34ms/step - loss: 0.0706 - mean_absolute_error: 0.0654 - val_loss: 0.0577 - val_mean_absolute_error: 0.0530\n",
      "Epoch 7/10\n",
      "112/112 [==============================] - 4s 34ms/step - loss: 0.0710 - mean_absolute_error: 0.0654 - val_loss: 0.0643 - val_mean_absolute_error: 0.0601\n",
      "Best epoch: 5\n"
     ]
    }
   ],
   "source": [
    "# first find the optimal number of training epochs\n",
    "\n",
    "MAX_EPOCHS = 10\n",
    "\n",
    "early_stopping = tf.keras.callbacks.EarlyStopping(monitor='val_loss',\n",
    "                                                patience=2,\n",
    "                                                mode='min')\n",
    "\n",
    "model = tuner.hypermodel.build(best_hps)\n",
    "history = model.fit(window.train, epochs=MAX_EPOCHS, validation_data=window.val, callbacks=[early_stopping])\n",
    "\n",
    "val_mae_per_epoch = history.history['val_mean_absolute_error']\n",
    "best_epoch = val_mae_per_epoch.index(min(val_mae_per_epoch)) + 1 # find epoch of lowest validation MAE \n",
    "print('Best epoch: %d' % (best_epoch,))"
   ]
  },
  {
   "cell_type": "code",
   "execution_count": 37,
   "id": "75134ef6",
   "metadata": {},
   "outputs": [
    {
     "name": "stdout",
     "output_type": "stream",
     "text": [
      "Epoch 1/5\n",
      "112/112 [==============================] - 7s 34ms/step - loss: 0.2157 - mean_absolute_error: 0.0718 - val_loss: 0.0607 - val_mean_absolute_error: 0.0531\n",
      "Epoch 2/5\n",
      "112/112 [==============================] - 4s 34ms/step - loss: 0.0737 - mean_absolute_error: 0.0672 - val_loss: 0.0681 - val_mean_absolute_error: 0.0611\n",
      "Epoch 3/5\n",
      "112/112 [==============================] - 4s 35ms/step - loss: 0.0724 - mean_absolute_error: 0.0664 - val_loss: 0.0610 - val_mean_absolute_error: 0.0557\n"
     ]
    }
   ],
   "source": [
    "early_stopping = tf.keras.callbacks.EarlyStopping(monitor='val_loss',\n",
    "                                                patience=2,\n",
    "                                                mode='min')\n",
    "logdir = os.path.join(\"logs\", datetime.datetime.now().strftime(\"%Y%m%d-%H%M%S\"))\n",
    "tensorboard_callback = tf.keras.callbacks.TensorBoard(logdir, histogram_freq=1)\n",
    "\n",
    "hypermodel = tuner.hypermodel.build(best_hps)\n",
    "history = hypermodel.fit(window.train, epochs=best_epoch, validation_data=window.val, \n",
    "                         callbacks=[early_stopping, tensorboard_callback])"
   ]
  },
  {
   "cell_type": "code",
   "execution_count": 38,
   "id": "ee1c25f1",
   "metadata": {},
   "outputs": [
    {
     "name": "stdout",
     "output_type": "stream",
     "text": [
      "30/30 [==============================] - 0s 4ms/step - loss: 0.0610 - mean_absolute_error: 0.0557\n",
      "Hypermodel Validation performance:  [0.0610201470553875, 0.05565759167075157]\n",
      "Hypermodel Test performance:  [0.04758908599615097, 0.04222652688622475]\n"
     ]
    }
   ],
   "source": [
    "val_performance['Hypermodel'] = hypermodel.evaluate(window.val)\n",
    "test_performance['Hypermodel'] = hypermodel.evaluate(window.test, verbose=0)\n",
    "\n",
    "print('Hypermodel Validation performance: ', val_performance['Hypermodel'])\n",
    "print('Hypermodel Test performance: ', test_performance['Hypermodel'])"
   ]
  },
  {
   "cell_type": "markdown",
   "id": "790b60f1",
   "metadata": {},
   "source": [
    "### Inference"
   ]
  },
  {
   "cell_type": "code",
   "execution_count": 104,
   "id": "23dc3868",
   "metadata": {},
   "outputs": [
    {
     "data": {
      "text/plain": [
       "<_TakeDataset element_spec=(TensorSpec(shape=(None, 60, 39), dtype=tf.float32, name=None), TensorSpec(shape=(None, 1, 1), dtype=tf.float32, name=None))>"
      ]
     },
     "execution_count": 104,
     "metadata": {},
     "output_type": "execute_result"
    }
   ],
   "source": [
    "# make predictions\n",
    "\n",
    "windowTestBatch = window.test.take(1) # given 60 days of info, make prediction: batch of 32\n",
    "windowTestBatch"
   ]
  },
  {
   "cell_type": "code",
   "execution_count": 105,
   "id": "393d47aa",
   "metadata": {},
   "outputs": [
    {
     "name": "stdout",
     "output_type": "stream",
     "text": [
      "1/1 [==============================] - 0s 39ms/step\n"
     ]
    }
   ],
   "source": [
    "### Predicted Inflow ### \n",
    "\n",
    "predictedInflow = hypermodel.predict(windowTestBatch)"
   ]
  },
  {
   "cell_type": "code",
   "execution_count": 106,
   "id": "4d4e2f8c",
   "metadata": {},
   "outputs": [],
   "source": [
    "### Actual Inflow ### \n",
    "\n",
    "actualInflow = [] # predicting 30 days ahead: batch of 32\n",
    "\n",
    "for inputs, labels in windowTestBatch.as_numpy_iterator():\n",
    "  actualInflow = np.asarray(labels).flatten()"
   ]
  },
  {
   "cell_type": "code",
   "execution_count": 107,
   "id": "758fd5c3",
   "metadata": {},
   "outputs": [
    {
     "data": {
      "text/plain": [
       "0.04128758"
      ]
     },
     "execution_count": 107,
     "metadata": {},
     "output_type": "execute_result"
    }
   ],
   "source": [
    "# compare predicted and actual inflow: MAE \n",
    "\n",
    "mean_absolute_error(actualInflow, predictedInflow)"
   ]
  },
  {
   "cell_type": "code",
   "execution_count": null,
   "id": "fd67b998",
   "metadata": {},
   "outputs": [],
   "source": []
  }
 ],
 "metadata": {
  "kernelspec": {
   "display_name": "Python 3 (ipykernel)",
   "language": "python",
   "name": "python3"
  },
  "language_info": {
   "codemirror_mode": {
    "name": "ipython",
    "version": 3
   },
   "file_extension": ".py",
   "mimetype": "text/x-python",
   "name": "python",
   "nbconvert_exporter": "python",
   "pygments_lexer": "ipython3",
   "version": "3.11.3"
  }
 },
 "nbformat": 4,
 "nbformat_minor": 5
}
